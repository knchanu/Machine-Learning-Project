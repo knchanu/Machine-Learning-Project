{
  "nbformat": 4,
  "nbformat_minor": 0,
  "metadata": {
    "colab": {
      "name": "1 data cleaning & exploration.ipynb",
      "version": "0.3.2",
      "provenance": [],
      "include_colab_link": true
    },
    "kernelspec": {
      "display_name": "Python 3",
      "language": "python",
      "name": "python3"
    }
  },
  "cells": [
    {
      "cell_type": "markdown",
      "metadata": {
        "id": "view-in-github",
        "colab_type": "text"
      },
      "source": [
        "<a href=\"https://colab.research.google.com/github/knchanu/Machine-Learning-Project/blob/master/04/06_data%20cleaning%20%26%20exploration.ipynb\" target=\"_parent\"><img src=\"https://colab.research.google.com/assets/colab-badge.svg\" alt=\"Open In Colab\"/></a>"
      ]
    },
    {
      "metadata": {
        "id": "Vhs5YpwSjF1P",
        "colab_type": "code",
        "colab": {}
      },
      "cell_type": "code",
      "source": [
        "import pandas as pd\n",
        "import numpy as np\n",
        "import pickle\n",
        "import matplotlib.pyplot as plt\n",
        "import matplotlib\n",
        "%matplotlib inline"
      ],
      "execution_count": 0,
      "outputs": []
    },
    {
      "metadata": {
        "id": "env0W7_AjF1d",
        "colab_type": "code",
        "colab": {}
      },
      "cell_type": "code",
      "source": [
        "full_dataset = pd.read_csv('C:/Users/user/Documents/GitHub/Machine-Learning-Project/dataset_diabetes/re-admission/diabetic_data.csv')\n",
        "#win path C:/Users/user/Documents/GitHub/Machine-Learning-Project/dataset_diabetes/re-admission/diabetic_data.csv"
      ],
      "execution_count": 0,
      "outputs": []
    },
    {
      "metadata": {
        "id": "ZU-Zp3vEjF1x",
        "colab_type": "code",
        "colab": {}
      },
      "cell_type": "code",
      "source": [
        "pd.options.display.max_columns = 55"
      ],
      "execution_count": 0,
      "outputs": []
    },
    {
      "metadata": {
        "id": "5wz_w6YVjF19",
        "colab_type": "code",
        "colab": {},
        "outputId": "17fc6b47-cde5-431a-c889-a413c2d59c15"
      },
      "cell_type": "code",
      "source": [
        "full_dataset.head()"
      ],
      "execution_count": 0,
      "outputs": [
        {
          "output_type": "execute_result",
          "data": {
            "text/html": [
              "<div>\n",
              "<style scoped>\n",
              "    .dataframe tbody tr th:only-of-type {\n",
              "        vertical-align: middle;\n",
              "    }\n",
              "\n",
              "    .dataframe tbody tr th {\n",
              "        vertical-align: top;\n",
              "    }\n",
              "\n",
              "    .dataframe thead th {\n",
              "        text-align: right;\n",
              "    }\n",
              "</style>\n",
              "<table border=\"1\" class=\"dataframe\">\n",
              "  <thead>\n",
              "    <tr style=\"text-align: right;\">\n",
              "      <th></th>\n",
              "      <th>encounter_id</th>\n",
              "      <th>patient_nbr</th>\n",
              "      <th>race</th>\n",
              "      <th>gender</th>\n",
              "      <th>age</th>\n",
              "      <th>weight</th>\n",
              "      <th>admission_type_id</th>\n",
              "      <th>discharge_disposition_id</th>\n",
              "      <th>admission_source_id</th>\n",
              "      <th>time_in_hospital</th>\n",
              "      <th>payer_code</th>\n",
              "      <th>medical_specialty</th>\n",
              "      <th>num_lab_procedures</th>\n",
              "      <th>num_procedures</th>\n",
              "      <th>num_medications</th>\n",
              "      <th>number_outpatient</th>\n",
              "      <th>number_emergency</th>\n",
              "      <th>number_inpatient</th>\n",
              "      <th>diag_1</th>\n",
              "      <th>diag_2</th>\n",
              "      <th>diag_3</th>\n",
              "      <th>number_diagnoses</th>\n",
              "      <th>max_glu_serum</th>\n",
              "      <th>A1Cresult</th>\n",
              "      <th>metformin</th>\n",
              "      <th>repaglinide</th>\n",
              "      <th>nateglinide</th>\n",
              "      <th>chlorpropamide</th>\n",
              "      <th>glimepiride</th>\n",
              "      <th>acetohexamide</th>\n",
              "      <th>glipizide</th>\n",
              "      <th>glyburide</th>\n",
              "      <th>tolbutamide</th>\n",
              "      <th>pioglitazone</th>\n",
              "      <th>rosiglitazone</th>\n",
              "      <th>acarbose</th>\n",
              "      <th>miglitol</th>\n",
              "      <th>troglitazone</th>\n",
              "      <th>tolazamide</th>\n",
              "      <th>examide</th>\n",
              "      <th>citoglipton</th>\n",
              "      <th>insulin</th>\n",
              "      <th>glyburide-metformin</th>\n",
              "      <th>glipizide-metformin</th>\n",
              "      <th>glimepiride-pioglitazone</th>\n",
              "      <th>metformin-rosiglitazone</th>\n",
              "      <th>metformin-pioglitazone</th>\n",
              "      <th>change</th>\n",
              "      <th>diabetesMed</th>\n",
              "      <th>readmitted</th>\n",
              "    </tr>\n",
              "  </thead>\n",
              "  <tbody>\n",
              "    <tr>\n",
              "      <th>0</th>\n",
              "      <td>2278392</td>\n",
              "      <td>8222157</td>\n",
              "      <td>Caucasian</td>\n",
              "      <td>Female</td>\n",
              "      <td>[0-10)</td>\n",
              "      <td>?</td>\n",
              "      <td>6</td>\n",
              "      <td>25</td>\n",
              "      <td>1</td>\n",
              "      <td>1</td>\n",
              "      <td>?</td>\n",
              "      <td>Pediatrics-Endocrinology</td>\n",
              "      <td>41</td>\n",
              "      <td>0</td>\n",
              "      <td>1</td>\n",
              "      <td>0</td>\n",
              "      <td>0</td>\n",
              "      <td>0</td>\n",
              "      <td>250.83</td>\n",
              "      <td>?</td>\n",
              "      <td>?</td>\n",
              "      <td>1</td>\n",
              "      <td>None</td>\n",
              "      <td>None</td>\n",
              "      <td>No</td>\n",
              "      <td>No</td>\n",
              "      <td>No</td>\n",
              "      <td>No</td>\n",
              "      <td>No</td>\n",
              "      <td>No</td>\n",
              "      <td>No</td>\n",
              "      <td>No</td>\n",
              "      <td>No</td>\n",
              "      <td>No</td>\n",
              "      <td>No</td>\n",
              "      <td>No</td>\n",
              "      <td>No</td>\n",
              "      <td>No</td>\n",
              "      <td>No</td>\n",
              "      <td>No</td>\n",
              "      <td>No</td>\n",
              "      <td>No</td>\n",
              "      <td>No</td>\n",
              "      <td>No</td>\n",
              "      <td>No</td>\n",
              "      <td>No</td>\n",
              "      <td>No</td>\n",
              "      <td>No</td>\n",
              "      <td>No</td>\n",
              "      <td>NO</td>\n",
              "    </tr>\n",
              "    <tr>\n",
              "      <th>1</th>\n",
              "      <td>149190</td>\n",
              "      <td>55629189</td>\n",
              "      <td>Caucasian</td>\n",
              "      <td>Female</td>\n",
              "      <td>[10-20)</td>\n",
              "      <td>?</td>\n",
              "      <td>1</td>\n",
              "      <td>1</td>\n",
              "      <td>7</td>\n",
              "      <td>3</td>\n",
              "      <td>?</td>\n",
              "      <td>?</td>\n",
              "      <td>59</td>\n",
              "      <td>0</td>\n",
              "      <td>18</td>\n",
              "      <td>0</td>\n",
              "      <td>0</td>\n",
              "      <td>0</td>\n",
              "      <td>276</td>\n",
              "      <td>250.01</td>\n",
              "      <td>255</td>\n",
              "      <td>9</td>\n",
              "      <td>None</td>\n",
              "      <td>None</td>\n",
              "      <td>No</td>\n",
              "      <td>No</td>\n",
              "      <td>No</td>\n",
              "      <td>No</td>\n",
              "      <td>No</td>\n",
              "      <td>No</td>\n",
              "      <td>No</td>\n",
              "      <td>No</td>\n",
              "      <td>No</td>\n",
              "      <td>No</td>\n",
              "      <td>No</td>\n",
              "      <td>No</td>\n",
              "      <td>No</td>\n",
              "      <td>No</td>\n",
              "      <td>No</td>\n",
              "      <td>No</td>\n",
              "      <td>No</td>\n",
              "      <td>Up</td>\n",
              "      <td>No</td>\n",
              "      <td>No</td>\n",
              "      <td>No</td>\n",
              "      <td>No</td>\n",
              "      <td>No</td>\n",
              "      <td>Ch</td>\n",
              "      <td>Yes</td>\n",
              "      <td>&gt;30</td>\n",
              "    </tr>\n",
              "    <tr>\n",
              "      <th>2</th>\n",
              "      <td>64410</td>\n",
              "      <td>86047875</td>\n",
              "      <td>AfricanAmerican</td>\n",
              "      <td>Female</td>\n",
              "      <td>[20-30)</td>\n",
              "      <td>?</td>\n",
              "      <td>1</td>\n",
              "      <td>1</td>\n",
              "      <td>7</td>\n",
              "      <td>2</td>\n",
              "      <td>?</td>\n",
              "      <td>?</td>\n",
              "      <td>11</td>\n",
              "      <td>5</td>\n",
              "      <td>13</td>\n",
              "      <td>2</td>\n",
              "      <td>0</td>\n",
              "      <td>1</td>\n",
              "      <td>648</td>\n",
              "      <td>250</td>\n",
              "      <td>V27</td>\n",
              "      <td>6</td>\n",
              "      <td>None</td>\n",
              "      <td>None</td>\n",
              "      <td>No</td>\n",
              "      <td>No</td>\n",
              "      <td>No</td>\n",
              "      <td>No</td>\n",
              "      <td>No</td>\n",
              "      <td>No</td>\n",
              "      <td>Steady</td>\n",
              "      <td>No</td>\n",
              "      <td>No</td>\n",
              "      <td>No</td>\n",
              "      <td>No</td>\n",
              "      <td>No</td>\n",
              "      <td>No</td>\n",
              "      <td>No</td>\n",
              "      <td>No</td>\n",
              "      <td>No</td>\n",
              "      <td>No</td>\n",
              "      <td>No</td>\n",
              "      <td>No</td>\n",
              "      <td>No</td>\n",
              "      <td>No</td>\n",
              "      <td>No</td>\n",
              "      <td>No</td>\n",
              "      <td>No</td>\n",
              "      <td>Yes</td>\n",
              "      <td>NO</td>\n",
              "    </tr>\n",
              "    <tr>\n",
              "      <th>3</th>\n",
              "      <td>500364</td>\n",
              "      <td>82442376</td>\n",
              "      <td>Caucasian</td>\n",
              "      <td>Male</td>\n",
              "      <td>[30-40)</td>\n",
              "      <td>?</td>\n",
              "      <td>1</td>\n",
              "      <td>1</td>\n",
              "      <td>7</td>\n",
              "      <td>2</td>\n",
              "      <td>?</td>\n",
              "      <td>?</td>\n",
              "      <td>44</td>\n",
              "      <td>1</td>\n",
              "      <td>16</td>\n",
              "      <td>0</td>\n",
              "      <td>0</td>\n",
              "      <td>0</td>\n",
              "      <td>8</td>\n",
              "      <td>250.43</td>\n",
              "      <td>403</td>\n",
              "      <td>7</td>\n",
              "      <td>None</td>\n",
              "      <td>None</td>\n",
              "      <td>No</td>\n",
              "      <td>No</td>\n",
              "      <td>No</td>\n",
              "      <td>No</td>\n",
              "      <td>No</td>\n",
              "      <td>No</td>\n",
              "      <td>No</td>\n",
              "      <td>No</td>\n",
              "      <td>No</td>\n",
              "      <td>No</td>\n",
              "      <td>No</td>\n",
              "      <td>No</td>\n",
              "      <td>No</td>\n",
              "      <td>No</td>\n",
              "      <td>No</td>\n",
              "      <td>No</td>\n",
              "      <td>No</td>\n",
              "      <td>Up</td>\n",
              "      <td>No</td>\n",
              "      <td>No</td>\n",
              "      <td>No</td>\n",
              "      <td>No</td>\n",
              "      <td>No</td>\n",
              "      <td>Ch</td>\n",
              "      <td>Yes</td>\n",
              "      <td>NO</td>\n",
              "    </tr>\n",
              "    <tr>\n",
              "      <th>4</th>\n",
              "      <td>16680</td>\n",
              "      <td>42519267</td>\n",
              "      <td>Caucasian</td>\n",
              "      <td>Male</td>\n",
              "      <td>[40-50)</td>\n",
              "      <td>?</td>\n",
              "      <td>1</td>\n",
              "      <td>1</td>\n",
              "      <td>7</td>\n",
              "      <td>1</td>\n",
              "      <td>?</td>\n",
              "      <td>?</td>\n",
              "      <td>51</td>\n",
              "      <td>0</td>\n",
              "      <td>8</td>\n",
              "      <td>0</td>\n",
              "      <td>0</td>\n",
              "      <td>0</td>\n",
              "      <td>197</td>\n",
              "      <td>157</td>\n",
              "      <td>250</td>\n",
              "      <td>5</td>\n",
              "      <td>None</td>\n",
              "      <td>None</td>\n",
              "      <td>No</td>\n",
              "      <td>No</td>\n",
              "      <td>No</td>\n",
              "      <td>No</td>\n",
              "      <td>No</td>\n",
              "      <td>No</td>\n",
              "      <td>Steady</td>\n",
              "      <td>No</td>\n",
              "      <td>No</td>\n",
              "      <td>No</td>\n",
              "      <td>No</td>\n",
              "      <td>No</td>\n",
              "      <td>No</td>\n",
              "      <td>No</td>\n",
              "      <td>No</td>\n",
              "      <td>No</td>\n",
              "      <td>No</td>\n",
              "      <td>Steady</td>\n",
              "      <td>No</td>\n",
              "      <td>No</td>\n",
              "      <td>No</td>\n",
              "      <td>No</td>\n",
              "      <td>No</td>\n",
              "      <td>Ch</td>\n",
              "      <td>Yes</td>\n",
              "      <td>NO</td>\n",
              "    </tr>\n",
              "  </tbody>\n",
              "</table>\n",
              "</div>"
            ],
            "text/plain": [
              "   encounter_id  patient_nbr             race  gender      age weight  \\\n",
              "0       2278392      8222157        Caucasian  Female   [0-10)      ?   \n",
              "1        149190     55629189        Caucasian  Female  [10-20)      ?   \n",
              "2         64410     86047875  AfricanAmerican  Female  [20-30)      ?   \n",
              "3        500364     82442376        Caucasian    Male  [30-40)      ?   \n",
              "4         16680     42519267        Caucasian    Male  [40-50)      ?   \n",
              "\n",
              "   admission_type_id  discharge_disposition_id  admission_source_id  \\\n",
              "0                  6                        25                    1   \n",
              "1                  1                         1                    7   \n",
              "2                  1                         1                    7   \n",
              "3                  1                         1                    7   \n",
              "4                  1                         1                    7   \n",
              "\n",
              "   time_in_hospital payer_code         medical_specialty  num_lab_procedures  \\\n",
              "0                 1          ?  Pediatrics-Endocrinology                  41   \n",
              "1                 3          ?                         ?                  59   \n",
              "2                 2          ?                         ?                  11   \n",
              "3                 2          ?                         ?                  44   \n",
              "4                 1          ?                         ?                  51   \n",
              "\n",
              "   num_procedures  num_medications  number_outpatient  number_emergency  \\\n",
              "0               0                1                  0                 0   \n",
              "1               0               18                  0                 0   \n",
              "2               5               13                  2                 0   \n",
              "3               1               16                  0                 0   \n",
              "4               0                8                  0                 0   \n",
              "\n",
              "   number_inpatient  diag_1  diag_2 diag_3  number_diagnoses max_glu_serum  \\\n",
              "0                 0  250.83       ?      ?                 1          None   \n",
              "1                 0     276  250.01    255                 9          None   \n",
              "2                 1     648     250    V27                 6          None   \n",
              "3                 0       8  250.43    403                 7          None   \n",
              "4                 0     197     157    250                 5          None   \n",
              "\n",
              "  A1Cresult metformin repaglinide nateglinide chlorpropamide glimepiride  \\\n",
              "0      None        No          No          No             No          No   \n",
              "1      None        No          No          No             No          No   \n",
              "2      None        No          No          No             No          No   \n",
              "3      None        No          No          No             No          No   \n",
              "4      None        No          No          No             No          No   \n",
              "\n",
              "  acetohexamide glipizide glyburide tolbutamide pioglitazone rosiglitazone  \\\n",
              "0            No        No        No          No           No            No   \n",
              "1            No        No        No          No           No            No   \n",
              "2            No    Steady        No          No           No            No   \n",
              "3            No        No        No          No           No            No   \n",
              "4            No    Steady        No          No           No            No   \n",
              "\n",
              "  acarbose miglitol troglitazone tolazamide examide citoglipton insulin  \\\n",
              "0       No       No           No         No      No          No      No   \n",
              "1       No       No           No         No      No          No      Up   \n",
              "2       No       No           No         No      No          No      No   \n",
              "3       No       No           No         No      No          No      Up   \n",
              "4       No       No           No         No      No          No  Steady   \n",
              "\n",
              "  glyburide-metformin glipizide-metformin glimepiride-pioglitazone  \\\n",
              "0                  No                  No                       No   \n",
              "1                  No                  No                       No   \n",
              "2                  No                  No                       No   \n",
              "3                  No                  No                       No   \n",
              "4                  No                  No                       No   \n",
              "\n",
              "  metformin-rosiglitazone metformin-pioglitazone change diabetesMed readmitted  \n",
              "0                      No                     No     No          No         NO  \n",
              "1                      No                     No     Ch         Yes        >30  \n",
              "2                      No                     No     No         Yes         NO  \n",
              "3                      No                     No     Ch         Yes         NO  \n",
              "4                      No                     No     Ch         Yes         NO  "
            ]
          },
          "metadata": {
            "tags": []
          },
          "execution_count": 5
        }
      ]
    },
    {
      "metadata": {
        "id": "vtYbXt39jF2S",
        "colab_type": "code",
        "colab": {},
        "outputId": "e1b2ade2-0653-445b-8828-2215d2bd84d8"
      },
      "cell_type": "code",
      "source": [
        "print(full_dataset.shape)"
      ],
      "execution_count": 0,
      "outputs": [
        {
          "output_type": "stream",
          "text": [
            "(101766, 50)\n"
          ],
          "name": "stdout"
        }
      ]
    },
    {
      "metadata": {
        "id": "htXh9J21jF2n",
        "colab_type": "text"
      },
      "cell_type": "markdown",
      "source": [
        "# Merge Datasets with IDs_mapping"
      ]
    },
    {
      "metadata": {
        "id": "yGfFE7DNjF2v",
        "colab_type": "code",
        "colab": {}
      },
      "cell_type": "code",
      "source": [
        "# Split id_mapping into 3 unique dataframes"
      ],
      "execution_count": 0,
      "outputs": []
    },
    {
      "metadata": {
        "id": "ECNKvYObjF2y",
        "colab_type": "code",
        "colab": {}
      },
      "cell_type": "code",
      "source": [
        "\n",
        "f = open('C:/Users/user/Documents/GitHub/Machine-Learning-Project/dataset_diabetes/re-admission/IDs_mapping.csv', 'r')    # 'r' for read\n",
        "lines = f.readlines()\n",
        "f.close()"
      ],
      "execution_count": 0,
      "outputs": []
    },
    {
      "metadata": {
        "id": "ZPPuNNiTjF25",
        "colab_type": "code",
        "colab": {}
      },
      "cell_type": "code",
      "source": [
        "indices = [i for i, x in enumerate(lines) if x == ',\\n']"
      ],
      "execution_count": 0,
      "outputs": []
    },
    {
      "metadata": {
        "id": "JqHRS0uFjF3J",
        "colab_type": "code",
        "colab": {},
        "outputId": "fddebc29-b289-4ac9-b208-b024c7c4f763"
      },
      "cell_type": "code",
      "source": [
        "indices"
      ],
      "execution_count": 0,
      "outputs": [
        {
          "output_type": "execute_result",
          "data": {
            "text/plain": [
              "[9, 41]"
            ]
          },
          "metadata": {
            "tags": []
          },
          "execution_count": 16
        }
      ]
    },
    {
      "metadata": {
        "id": "cX5PWWdpjF3U",
        "colab_type": "code",
        "colab": {}
      },
      "cell_type": "code",
      "source": [
        "id_mapping = pd.read_csv('C:/Users/user/Documents/GitHub/Machine-Learning-Project/dataset_diabetes/re-admission/IDs_mapping.csv')\n",
        "admission_type =pd.read_csv('C:/Users/user/Documents/GitHub/Machine-Learning-Project/dataset_diabetes/re-admission/IDs_mapping.csv', skiprows=list(range(9,len(lines))))\n",
        "\n",
        "rows_skip = list(range(0,10)) + list(range(41, len(lines)))\n",
        "discharge_disposition = pd.read_csv('C:/Users/user/Documents/GitHub/Machine-Learning-Project/dataset_diabetes/re-admission/IDs_mapping.csv', skiprows=rows_skip)\n",
        "\n",
        "admission_source = pd.read_csv('C:/Users/user/Documents/GitHub/Machine-Learning-Project/dataset_diabetes/re-admission/IDs_mapping.csv', skiprows=list(range(42)))"
      ],
      "execution_count": 0,
      "outputs": []
    },
    {
      "metadata": {
        "id": "6ctfdA51jF3e",
        "colab_type": "code",
        "colab": {}
      },
      "cell_type": "code",
      "source": [
        "## Combine values in all three ID tables"
      ],
      "execution_count": 0,
      "outputs": []
    },
    {
      "metadata": {
        "id": "p6LrDPPwjF33",
        "colab_type": "code",
        "colab": {},
        "outputId": "cee117a0-746e-4f3b-f493-e93790e7eea9"
      },
      "cell_type": "code",
      "source": [
        "##1 admissioin_type\n",
        "## make 'Not Available', 'NaN', and 'Not Mapped' all 'NA'\n",
        "for i in range(len(admission_type)):\n",
        "    x = admission_type['description'][i]\n",
        "    if (x == 'Not Available' or x == 'Not Mapped'):\n",
        "        admission_type['description'][i] = np.nan"
      ],
      "execution_count": 0,
      "outputs": [
        {
          "output_type": "stream",
          "text": [
            "C:\\Users\\user\\Anaconda3\\lib\\site-packages\\ipykernel_launcher.py:6: SettingWithCopyWarning: \n",
            "A value is trying to be set on a copy of a slice from a DataFrame\n",
            "\n",
            "See the caveats in the documentation: http://pandas.pydata.org/pandas-docs/stable/indexing.html#indexing-view-versus-copy\n",
            "  \n"
          ],
          "name": "stderr"
        }
      ]
    },
    {
      "metadata": {
        "id": "8nmdcVFmjF4S",
        "colab_type": "code",
        "colab": {},
        "outputId": "46ef7009-566c-4c47-eecd-bea7543d3f97"
      },
      "cell_type": "code",
      "source": [
        "#2 discharge_disposition\n",
        "\n",
        "## make 'Unknown/Invalid', 'NaN', and 'Not Mapped' all 'NA'\n",
        "for i in range(len(discharge_disposition)):\n",
        "    x = discharge_disposition['description'][i]\n",
        "    if (x == 'Unknown/Invalid' or x == 'Not Mapped'):\n",
        "        discharge_disposition['description'][i] = np.nan\n",
        "    elif(pd.isna(x)):\n",
        "        continue\n",
        "    elif ('Expired' in x):\n",
        "        discharge_disposition['description'][i] = 'Expired'"
      ],
      "execution_count": 0,
      "outputs": [
        {
          "output_type": "stream",
          "text": [
            "C:\\Users\\user\\Anaconda3\\lib\\site-packages\\ipykernel_launcher.py:11: SettingWithCopyWarning: \n",
            "A value is trying to be set on a copy of a slice from a DataFrame\n",
            "\n",
            "See the caveats in the documentation: http://pandas.pydata.org/pandas-docs/stable/indexing.html#indexing-view-versus-copy\n",
            "  # This is added back by InteractiveShellApp.init_path()\n"
          ],
          "name": "stderr"
        }
      ]
    },
    {
      "metadata": {
        "id": "nA5tgGlFjF4u",
        "colab_type": "code",
        "colab": {},
        "outputId": "a1d28fbc-a60f-4d29-ba4f-4b1e76b91685"
      },
      "cell_type": "code",
      "source": [
        "#3 admission_source\n",
        "\n",
        "## make 'Not Available', 'NaN', 'Unknown/Invalid' and 'Not Mapped' all 'NA'\n",
        "for i in range(len(admission_source)):\n",
        "    x = admission_source['description'][i]\n",
        "    if(pd.isna(x)):\n",
        "        continue\n",
        "    elif (x.strip() == 'Not Available' or x.strip() == 'Not Mapped' or x.strip() == 'Unknown/Invalid'):\n",
        "        admission_source['description'][i] = np.nan"
      ],
      "execution_count": 0,
      "outputs": [
        {
          "output_type": "stream",
          "text": [
            "C:\\Users\\user\\Anaconda3\\lib\\site-packages\\ipykernel_launcher.py:9: SettingWithCopyWarning: \n",
            "A value is trying to be set on a copy of a slice from a DataFrame\n",
            "\n",
            "See the caveats in the documentation: http://pandas.pydata.org/pandas-docs/stable/indexing.html#indexing-view-versus-copy\n",
            "  if __name__ == '__main__':\n"
          ],
          "name": "stderr"
        }
      ]
    },
    {
      "metadata": {
        "id": "CSKxrxBOjF41",
        "colab_type": "code",
        "colab": {}
      },
      "cell_type": "code",
      "source": [
        "# merge datasets\n",
        "ds = full_dataset.merge(admission_type, how = 'left', on='admission_type_id')\n",
        "ds2 = ds.merge(discharge_disposition, how = 'left', on = 'discharge_disposition_id')\n",
        "full_dataset = ds2.merge(admission_source, how = 'left', on = 'admission_source_id')\n",
        "full_dataset.rename(columns={\"description_x\": \"admissionType\",\n",
        "                             \"description_y\": \"dischargeDisposition\",\n",
        "                             \"description\" : \"admissionSource\"}, inplace = True)"
      ],
      "execution_count": 0,
      "outputs": []
    },
    {
      "metadata": {
        "id": "WHOKlMYejF4_",
        "colab_type": "code",
        "colab": {},
        "outputId": "9682c5ae-6c52-4a76-e8ea-e0cfbe1b1609"
      },
      "cell_type": "code",
      "source": [
        "full_dataset.head()"
      ],
      "execution_count": 0,
      "outputs": [
        {
          "output_type": "execute_result",
          "data": {
            "text/html": [
              "<div>\n",
              "<style scoped>\n",
              "    .dataframe tbody tr th:only-of-type {\n",
              "        vertical-align: middle;\n",
              "    }\n",
              "\n",
              "    .dataframe tbody tr th {\n",
              "        vertical-align: top;\n",
              "    }\n",
              "\n",
              "    .dataframe thead th {\n",
              "        text-align: right;\n",
              "    }\n",
              "</style>\n",
              "<table border=\"1\" class=\"dataframe\">\n",
              "  <thead>\n",
              "    <tr style=\"text-align: right;\">\n",
              "      <th></th>\n",
              "      <th>encounter_id</th>\n",
              "      <th>patient_nbr</th>\n",
              "      <th>race</th>\n",
              "      <th>gender</th>\n",
              "      <th>age</th>\n",
              "      <th>weight</th>\n",
              "      <th>admission_type_id</th>\n",
              "      <th>discharge_disposition_id</th>\n",
              "      <th>admission_source_id</th>\n",
              "      <th>time_in_hospital</th>\n",
              "      <th>payer_code</th>\n",
              "      <th>medical_specialty</th>\n",
              "      <th>num_lab_procedures</th>\n",
              "      <th>num_procedures</th>\n",
              "      <th>num_medications</th>\n",
              "      <th>number_outpatient</th>\n",
              "      <th>number_emergency</th>\n",
              "      <th>number_inpatient</th>\n",
              "      <th>diag_1</th>\n",
              "      <th>diag_2</th>\n",
              "      <th>diag_3</th>\n",
              "      <th>number_diagnoses</th>\n",
              "      <th>max_glu_serum</th>\n",
              "      <th>A1Cresult</th>\n",
              "      <th>metformin</th>\n",
              "      <th>repaglinide</th>\n",
              "      <th>nateglinide</th>\n",
              "      <th>chlorpropamide</th>\n",
              "      <th>glimepiride</th>\n",
              "      <th>acetohexamide</th>\n",
              "      <th>glipizide</th>\n",
              "      <th>glyburide</th>\n",
              "      <th>tolbutamide</th>\n",
              "      <th>pioglitazone</th>\n",
              "      <th>rosiglitazone</th>\n",
              "      <th>acarbose</th>\n",
              "      <th>miglitol</th>\n",
              "      <th>troglitazone</th>\n",
              "      <th>tolazamide</th>\n",
              "      <th>examide</th>\n",
              "      <th>citoglipton</th>\n",
              "      <th>insulin</th>\n",
              "      <th>glyburide-metformin</th>\n",
              "      <th>glipizide-metformin</th>\n",
              "      <th>glimepiride-pioglitazone</th>\n",
              "      <th>metformin-rosiglitazone</th>\n",
              "      <th>metformin-pioglitazone</th>\n",
              "      <th>change</th>\n",
              "      <th>diabetesMed</th>\n",
              "      <th>readmitted</th>\n",
              "      <th>admissionType</th>\n",
              "      <th>dischargeDisposition</th>\n",
              "      <th>admissionSource</th>\n",
              "    </tr>\n",
              "  </thead>\n",
              "  <tbody>\n",
              "    <tr>\n",
              "      <th>0</th>\n",
              "      <td>2278392</td>\n",
              "      <td>8222157</td>\n",
              "      <td>Caucasian</td>\n",
              "      <td>Female</td>\n",
              "      <td>[0-10)</td>\n",
              "      <td>?</td>\n",
              "      <td>6</td>\n",
              "      <td>25</td>\n",
              "      <td>1</td>\n",
              "      <td>1</td>\n",
              "      <td>?</td>\n",
              "      <td>Pediatrics-Endocrinology</td>\n",
              "      <td>41</td>\n",
              "      <td>0</td>\n",
              "      <td>1</td>\n",
              "      <td>0</td>\n",
              "      <td>0</td>\n",
              "      <td>0</td>\n",
              "      <td>250.83</td>\n",
              "      <td>?</td>\n",
              "      <td>?</td>\n",
              "      <td>1</td>\n",
              "      <td>None</td>\n",
              "      <td>None</td>\n",
              "      <td>No</td>\n",
              "      <td>No</td>\n",
              "      <td>No</td>\n",
              "      <td>No</td>\n",
              "      <td>No</td>\n",
              "      <td>No</td>\n",
              "      <td>No</td>\n",
              "      <td>No</td>\n",
              "      <td>No</td>\n",
              "      <td>No</td>\n",
              "      <td>No</td>\n",
              "      <td>No</td>\n",
              "      <td>No</td>\n",
              "      <td>No</td>\n",
              "      <td>No</td>\n",
              "      <td>No</td>\n",
              "      <td>No</td>\n",
              "      <td>No</td>\n",
              "      <td>No</td>\n",
              "      <td>No</td>\n",
              "      <td>No</td>\n",
              "      <td>No</td>\n",
              "      <td>No</td>\n",
              "      <td>No</td>\n",
              "      <td>No</td>\n",
              "      <td>NO</td>\n",
              "      <td>NaN</td>\n",
              "      <td>NaN</td>\n",
              "      <td>Physician Referral</td>\n",
              "    </tr>\n",
              "    <tr>\n",
              "      <th>1</th>\n",
              "      <td>149190</td>\n",
              "      <td>55629189</td>\n",
              "      <td>Caucasian</td>\n",
              "      <td>Female</td>\n",
              "      <td>[10-20)</td>\n",
              "      <td>?</td>\n",
              "      <td>1</td>\n",
              "      <td>1</td>\n",
              "      <td>7</td>\n",
              "      <td>3</td>\n",
              "      <td>?</td>\n",
              "      <td>?</td>\n",
              "      <td>59</td>\n",
              "      <td>0</td>\n",
              "      <td>18</td>\n",
              "      <td>0</td>\n",
              "      <td>0</td>\n",
              "      <td>0</td>\n",
              "      <td>276</td>\n",
              "      <td>250.01</td>\n",
              "      <td>255</td>\n",
              "      <td>9</td>\n",
              "      <td>None</td>\n",
              "      <td>None</td>\n",
              "      <td>No</td>\n",
              "      <td>No</td>\n",
              "      <td>No</td>\n",
              "      <td>No</td>\n",
              "      <td>No</td>\n",
              "      <td>No</td>\n",
              "      <td>No</td>\n",
              "      <td>No</td>\n",
              "      <td>No</td>\n",
              "      <td>No</td>\n",
              "      <td>No</td>\n",
              "      <td>No</td>\n",
              "      <td>No</td>\n",
              "      <td>No</td>\n",
              "      <td>No</td>\n",
              "      <td>No</td>\n",
              "      <td>No</td>\n",
              "      <td>Up</td>\n",
              "      <td>No</td>\n",
              "      <td>No</td>\n",
              "      <td>No</td>\n",
              "      <td>No</td>\n",
              "      <td>No</td>\n",
              "      <td>Ch</td>\n",
              "      <td>Yes</td>\n",
              "      <td>&gt;30</td>\n",
              "      <td>Emergency</td>\n",
              "      <td>Discharged to home</td>\n",
              "      <td>Emergency Room</td>\n",
              "    </tr>\n",
              "    <tr>\n",
              "      <th>2</th>\n",
              "      <td>64410</td>\n",
              "      <td>86047875</td>\n",
              "      <td>AfricanAmerican</td>\n",
              "      <td>Female</td>\n",
              "      <td>[20-30)</td>\n",
              "      <td>?</td>\n",
              "      <td>1</td>\n",
              "      <td>1</td>\n",
              "      <td>7</td>\n",
              "      <td>2</td>\n",
              "      <td>?</td>\n",
              "      <td>?</td>\n",
              "      <td>11</td>\n",
              "      <td>5</td>\n",
              "      <td>13</td>\n",
              "      <td>2</td>\n",
              "      <td>0</td>\n",
              "      <td>1</td>\n",
              "      <td>648</td>\n",
              "      <td>250</td>\n",
              "      <td>V27</td>\n",
              "      <td>6</td>\n",
              "      <td>None</td>\n",
              "      <td>None</td>\n",
              "      <td>No</td>\n",
              "      <td>No</td>\n",
              "      <td>No</td>\n",
              "      <td>No</td>\n",
              "      <td>No</td>\n",
              "      <td>No</td>\n",
              "      <td>Steady</td>\n",
              "      <td>No</td>\n",
              "      <td>No</td>\n",
              "      <td>No</td>\n",
              "      <td>No</td>\n",
              "      <td>No</td>\n",
              "      <td>No</td>\n",
              "      <td>No</td>\n",
              "      <td>No</td>\n",
              "      <td>No</td>\n",
              "      <td>No</td>\n",
              "      <td>No</td>\n",
              "      <td>No</td>\n",
              "      <td>No</td>\n",
              "      <td>No</td>\n",
              "      <td>No</td>\n",
              "      <td>No</td>\n",
              "      <td>No</td>\n",
              "      <td>Yes</td>\n",
              "      <td>NO</td>\n",
              "      <td>Emergency</td>\n",
              "      <td>Discharged to home</td>\n",
              "      <td>Emergency Room</td>\n",
              "    </tr>\n",
              "    <tr>\n",
              "      <th>3</th>\n",
              "      <td>500364</td>\n",
              "      <td>82442376</td>\n",
              "      <td>Caucasian</td>\n",
              "      <td>Male</td>\n",
              "      <td>[30-40)</td>\n",
              "      <td>?</td>\n",
              "      <td>1</td>\n",
              "      <td>1</td>\n",
              "      <td>7</td>\n",
              "      <td>2</td>\n",
              "      <td>?</td>\n",
              "      <td>?</td>\n",
              "      <td>44</td>\n",
              "      <td>1</td>\n",
              "      <td>16</td>\n",
              "      <td>0</td>\n",
              "      <td>0</td>\n",
              "      <td>0</td>\n",
              "      <td>8</td>\n",
              "      <td>250.43</td>\n",
              "      <td>403</td>\n",
              "      <td>7</td>\n",
              "      <td>None</td>\n",
              "      <td>None</td>\n",
              "      <td>No</td>\n",
              "      <td>No</td>\n",
              "      <td>No</td>\n",
              "      <td>No</td>\n",
              "      <td>No</td>\n",
              "      <td>No</td>\n",
              "      <td>No</td>\n",
              "      <td>No</td>\n",
              "      <td>No</td>\n",
              "      <td>No</td>\n",
              "      <td>No</td>\n",
              "      <td>No</td>\n",
              "      <td>No</td>\n",
              "      <td>No</td>\n",
              "      <td>No</td>\n",
              "      <td>No</td>\n",
              "      <td>No</td>\n",
              "      <td>Up</td>\n",
              "      <td>No</td>\n",
              "      <td>No</td>\n",
              "      <td>No</td>\n",
              "      <td>No</td>\n",
              "      <td>No</td>\n",
              "      <td>Ch</td>\n",
              "      <td>Yes</td>\n",
              "      <td>NO</td>\n",
              "      <td>Emergency</td>\n",
              "      <td>Discharged to home</td>\n",
              "      <td>Emergency Room</td>\n",
              "    </tr>\n",
              "    <tr>\n",
              "      <th>4</th>\n",
              "      <td>16680</td>\n",
              "      <td>42519267</td>\n",
              "      <td>Caucasian</td>\n",
              "      <td>Male</td>\n",
              "      <td>[40-50)</td>\n",
              "      <td>?</td>\n",
              "      <td>1</td>\n",
              "      <td>1</td>\n",
              "      <td>7</td>\n",
              "      <td>1</td>\n",
              "      <td>?</td>\n",
              "      <td>?</td>\n",
              "      <td>51</td>\n",
              "      <td>0</td>\n",
              "      <td>8</td>\n",
              "      <td>0</td>\n",
              "      <td>0</td>\n",
              "      <td>0</td>\n",
              "      <td>197</td>\n",
              "      <td>157</td>\n",
              "      <td>250</td>\n",
              "      <td>5</td>\n",
              "      <td>None</td>\n",
              "      <td>None</td>\n",
              "      <td>No</td>\n",
              "      <td>No</td>\n",
              "      <td>No</td>\n",
              "      <td>No</td>\n",
              "      <td>No</td>\n",
              "      <td>No</td>\n",
              "      <td>Steady</td>\n",
              "      <td>No</td>\n",
              "      <td>No</td>\n",
              "      <td>No</td>\n",
              "      <td>No</td>\n",
              "      <td>No</td>\n",
              "      <td>No</td>\n",
              "      <td>No</td>\n",
              "      <td>No</td>\n",
              "      <td>No</td>\n",
              "      <td>No</td>\n",
              "      <td>Steady</td>\n",
              "      <td>No</td>\n",
              "      <td>No</td>\n",
              "      <td>No</td>\n",
              "      <td>No</td>\n",
              "      <td>No</td>\n",
              "      <td>Ch</td>\n",
              "      <td>Yes</td>\n",
              "      <td>NO</td>\n",
              "      <td>Emergency</td>\n",
              "      <td>Discharged to home</td>\n",
              "      <td>Emergency Room</td>\n",
              "    </tr>\n",
              "  </tbody>\n",
              "</table>\n",
              "</div>"
            ],
            "text/plain": [
              "   encounter_id  patient_nbr             race  gender      age weight  \\\n",
              "0       2278392      8222157        Caucasian  Female   [0-10)      ?   \n",
              "1        149190     55629189        Caucasian  Female  [10-20)      ?   \n",
              "2         64410     86047875  AfricanAmerican  Female  [20-30)      ?   \n",
              "3        500364     82442376        Caucasian    Male  [30-40)      ?   \n",
              "4         16680     42519267        Caucasian    Male  [40-50)      ?   \n",
              "\n",
              "   admission_type_id  discharge_disposition_id  admission_source_id  \\\n",
              "0                  6                        25                    1   \n",
              "1                  1                         1                    7   \n",
              "2                  1                         1                    7   \n",
              "3                  1                         1                    7   \n",
              "4                  1                         1                    7   \n",
              "\n",
              "   time_in_hospital payer_code         medical_specialty  num_lab_procedures  \\\n",
              "0                 1          ?  Pediatrics-Endocrinology                  41   \n",
              "1                 3          ?                         ?                  59   \n",
              "2                 2          ?                         ?                  11   \n",
              "3                 2          ?                         ?                  44   \n",
              "4                 1          ?                         ?                  51   \n",
              "\n",
              "   num_procedures  num_medications  number_outpatient  number_emergency  \\\n",
              "0               0                1                  0                 0   \n",
              "1               0               18                  0                 0   \n",
              "2               5               13                  2                 0   \n",
              "3               1               16                  0                 0   \n",
              "4               0                8                  0                 0   \n",
              "\n",
              "   number_inpatient  diag_1  diag_2 diag_3  number_diagnoses max_glu_serum  \\\n",
              "0                 0  250.83       ?      ?                 1          None   \n",
              "1                 0     276  250.01    255                 9          None   \n",
              "2                 1     648     250    V27                 6          None   \n",
              "3                 0       8  250.43    403                 7          None   \n",
              "4                 0     197     157    250                 5          None   \n",
              "\n",
              "  A1Cresult metformin repaglinide nateglinide chlorpropamide glimepiride  \\\n",
              "0      None        No          No          No             No          No   \n",
              "1      None        No          No          No             No          No   \n",
              "2      None        No          No          No             No          No   \n",
              "3      None        No          No          No             No          No   \n",
              "4      None        No          No          No             No          No   \n",
              "\n",
              "  acetohexamide glipizide glyburide tolbutamide pioglitazone rosiglitazone  \\\n",
              "0            No        No        No          No           No            No   \n",
              "1            No        No        No          No           No            No   \n",
              "2            No    Steady        No          No           No            No   \n",
              "3            No        No        No          No           No            No   \n",
              "4            No    Steady        No          No           No            No   \n",
              "\n",
              "  acarbose miglitol troglitazone tolazamide examide citoglipton insulin  \\\n",
              "0       No       No           No         No      No          No      No   \n",
              "1       No       No           No         No      No          No      Up   \n",
              "2       No       No           No         No      No          No      No   \n",
              "3       No       No           No         No      No          No      Up   \n",
              "4       No       No           No         No      No          No  Steady   \n",
              "\n",
              "  glyburide-metformin glipizide-metformin glimepiride-pioglitazone  \\\n",
              "0                  No                  No                       No   \n",
              "1                  No                  No                       No   \n",
              "2                  No                  No                       No   \n",
              "3                  No                  No                       No   \n",
              "4                  No                  No                       No   \n",
              "\n",
              "  metformin-rosiglitazone metformin-pioglitazone change diabetesMed  \\\n",
              "0                      No                     No     No          No   \n",
              "1                      No                     No     Ch         Yes   \n",
              "2                      No                     No     No         Yes   \n",
              "3                      No                     No     Ch         Yes   \n",
              "4                      No                     No     Ch         Yes   \n",
              "\n",
              "  readmitted admissionType dischargeDisposition      admissionSource  \n",
              "0         NO           NaN                  NaN   Physician Referral  \n",
              "1        >30     Emergency   Discharged to home       Emergency Room  \n",
              "2         NO     Emergency   Discharged to home       Emergency Room  \n",
              "3         NO     Emergency   Discharged to home       Emergency Room  \n",
              "4         NO     Emergency   Discharged to home       Emergency Room  "
            ]
          },
          "metadata": {
            "tags": []
          },
          "execution_count": 32
        }
      ]
    },
    {
      "metadata": {
        "id": "qoWqJp4TjF5O",
        "colab_type": "code",
        "colab": {},
        "outputId": "8f387870-5ca7-4b33-9b3c-0107558c0c23"
      },
      "cell_type": "code",
      "source": [
        "full_dataset.drop(['admission_type_id', 'discharge_disposition_id', 'admission_source_id'], axis = 1, inplace = True)\n",
        "full_dataset.shape"
      ],
      "execution_count": 0,
      "outputs": [
        {
          "output_type": "execute_result",
          "data": {
            "text/plain": [
              "(101766, 50)"
            ]
          },
          "metadata": {
            "tags": []
          },
          "execution_count": 33
        }
      ]
    },
    {
      "metadata": {
        "id": "-LXuPKjRjF5V",
        "colab_type": "code",
        "colab": {},
        "outputId": "c3f7f6c8-40da-43e5-8745-f90edf5da5a1"
      },
      "cell_type": "code",
      "source": [
        "full_dataset['dischargeDisposition'].value_counts()"
      ],
      "execution_count": 0,
      "outputs": [
        {
          "output_type": "execute_result",
          "data": {
            "text/plain": [
              "Discharged to home                                                                                           60234\n",
              "Discharged/transferred to SNF                                                                                13954\n",
              "Discharged/transferred to home with home health service                                                      12902\n",
              "Discharged/transferred to another short term hospital                                                         2128\n",
              "Discharged/transferred to another rehab fac including rehab units of a hospital .                             1993\n",
              "Expired                                                                                                       1652\n",
              "Discharged/transferred to another type of inpatient care institution                                          1184\n",
              "Discharged/transferred to ICF                                                                                  815\n",
              "Left AMA                                                                                                       623\n",
              "Discharged/transferred to a long term care hospital.                                                           412\n",
              "Hospice / home                                                                                                 399\n",
              "Hospice / medical facility                                                                                     372\n",
              "Discharged/transferred/referred to a psychiatric hospital of psychiatric distinct part unit of a hospital      139\n",
              "Discharged/transferred to home under care of Home IV provider                                                  108\n",
              "Discharged/transferred within this institution to Medicare approved swing bed                                   63\n",
              "Discharged/transferred to a nursing facility certified under Medicaid but not certified under Medicare.         48\n",
              "Admitted as an inpatient to this hospital                                                                       21\n",
              "Discharged/transferred/referred to this institution for outpatient services                                     14\n",
              "Discharged/transferred/referred another institution for outpatient services                                     11\n",
              "Neonate discharged to another hospital for neonatal aftercare                                                    6\n",
              "Discharged/transferred to a federal health care facility.                                                        5\n",
              "Still patient or expected to return for outpatient services                                                      3\n",
              "Name: dischargeDisposition, dtype: int64"
            ]
          },
          "metadata": {
            "tags": []
          },
          "execution_count": 34
        }
      ]
    },
    {
      "metadata": {
        "id": "gR83hUMzjF5q",
        "colab_type": "code",
        "colab": {},
        "outputId": "5910b343-95f2-40f2-cf07-77d3b949a4ce"
      },
      "cell_type": "code",
      "source": [
        "full_dataset['admissionType'].value_counts()"
      ],
      "execution_count": 0,
      "outputs": [
        {
          "output_type": "execute_result",
          "data": {
            "text/plain": [
              "Emergency        53990\n",
              "Elective         18869\n",
              "Urgent           18480\n",
              "Trauma Center       21\n",
              "Newborn             10\n",
              "Name: admissionType, dtype: int64"
            ]
          },
          "metadata": {
            "tags": []
          },
          "execution_count": 35
        }
      ]
    },
    {
      "metadata": {
        "id": "9hFuZqn-jF52",
        "colab_type": "code",
        "colab": {},
        "outputId": "444e0f01-dfaa-4411-840b-93ee73d9147a"
      },
      "cell_type": "code",
      "source": [
        "full_dataset['admissionSource'].value_counts()"
      ],
      "execution_count": 0,
      "outputs": [
        {
          "output_type": "execute_result",
          "data": {
            "text/plain": [
              " Emergency Room                                               57494\n",
              " Physician Referral                                           29565\n",
              "Transfer from a hospital                                       3187\n",
              " Transfer from another health care facility                    2264\n",
              "Clinic Referral                                                1104\n",
              " Transfer from a Skilled Nursing Facility (SNF)                 855\n",
              "HMO Referral                                                    187\n",
              " Court/Law Enforcement                                           16\n",
              " Transfer from hospital inpt/same fac reslt in a sep claim       12\n",
              " Transfer from critial access hospital                            8\n",
              "Normal Delivery                                                   2\n",
              " Extramural Birth                                                 2\n",
              " Transfer from Ambulatory Surgery Center                          2\n",
              " Sick Baby                                                        1\n",
              "Name: admissionSource, dtype: int64"
            ]
          },
          "metadata": {
            "tags": []
          },
          "execution_count": 36
        }
      ]
    },
    {
      "metadata": {
        "id": "xJAy4YwjjF6J",
        "colab_type": "text"
      },
      "cell_type": "markdown",
      "source": [
        "# Create Response Variable - readmitted_30\n",
        "readmitted = yes if readmitted<30\n",
        "readmitted = no if readmitted>30 or not readmitted \n",
        "\n"
      ]
    },
    {
      "metadata": {
        "id": "3cq-JMzCjF6S",
        "colab_type": "code",
        "colab": {}
      },
      "cell_type": "code",
      "source": [
        "full_dataset['readmitted'] = ['Yes' if x == '<30' else 'No' for x in full_dataset['readmitted']]"
      ],
      "execution_count": 0,
      "outputs": []
    },
    {
      "metadata": {
        "id": "1Tls7roQjF6b",
        "colab_type": "code",
        "colab": {},
        "outputId": "e8d9326a-0a70-4b75-f116-ae11252da278"
      },
      "cell_type": "code",
      "source": [
        "full_dataset['readmitted'].value_counts()"
      ],
      "execution_count": 0,
      "outputs": [
        {
          "output_type": "execute_result",
          "data": {
            "text/plain": [
              "No     90409\n",
              "Yes    11357\n",
              "Name: readmitted, dtype: int64"
            ]
          },
          "metadata": {
            "tags": []
          },
          "execution_count": 38
        }
      ]
    },
    {
      "metadata": {
        "id": "9614vKXUjF6w",
        "colab_type": "text"
      },
      "cell_type": "markdown",
      "source": [
        "# Remove unnecessary columns"
      ]
    },
    {
      "metadata": {
        "id": "N1GOK0OjjF6z",
        "colab_type": "code",
        "colab": {}
      },
      "cell_type": "code",
      "source": [
        "# Remove weight from dataset (97% missing)\n",
        "full_dataset.drop(['weight'], axis = 1, inplace = True)"
      ],
      "execution_count": 0,
      "outputs": []
    },
    {
      "metadata": {
        "id": "oPDfl7I2jF63",
        "colab_type": "code",
        "colab": {}
      },
      "cell_type": "code",
      "source": [
        "'''If only one value in column, remove column\n",
        "\n",
        "This includes only citoglipton and examide\n",
        "If less than 1000 (1%) not 'No' in column, remove column\n",
        "\n",
        "Can change threshold number, calculated columns below\n",
        "'''\n",
        "nos = []\n",
        "for i in range(18,43):\n",
        "    col = full_dataset.columns[i]\n",
        "    numNotNo = len(full_dataset[full_dataset[col] != 'No'])\n",
        "    if (numNotNo < 1000):\n",
        "        nos.append(col)\n",
        "        "
      ],
      "execution_count": 0,
      "outputs": []
    },
    {
      "metadata": {
        "id": "42laTUlIjF7N",
        "colab_type": "code",
        "colab": {},
        "outputId": "eae57c32-edd0-4029-e08c-c8dfdca76726"
      },
      "cell_type": "code",
      "source": [
        "nos"
      ],
      "execution_count": 0,
      "outputs": [
        {
          "output_type": "execute_result",
          "data": {
            "text/plain": [
              "['nateglinide',\n",
              " 'chlorpropamide',\n",
              " 'acetohexamide',\n",
              " 'tolbutamide',\n",
              " 'acarbose',\n",
              " 'miglitol',\n",
              " 'troglitazone',\n",
              " 'tolazamide',\n",
              " 'examide',\n",
              " 'citoglipton',\n",
              " 'glyburide-metformin',\n",
              " 'glipizide-metformin',\n",
              " 'glimepiride-pioglitazone',\n",
              " 'metformin-rosiglitazone',\n",
              " 'metformin-pioglitazone']"
            ]
          },
          "metadata": {
            "tags": []
          },
          "execution_count": 41
        }
      ]
    },
    {
      "metadata": {
        "id": "GUnZ58M6jF7e",
        "colab_type": "code",
        "colab": {}
      },
      "cell_type": "code",
      "source": [
        "full_dataset.drop(nos, axis = 1, inplace = True)"
      ],
      "execution_count": 0,
      "outputs": []
    },
    {
      "metadata": {
        "id": "6urcnMCHjF7i",
        "colab_type": "code",
        "colab": {},
        "outputId": "cb50e6d8-63a8-41ee-8f8a-f8f30ea2e1e6"
      },
      "cell_type": "code",
      "source": [
        "full_dataset.shape"
      ],
      "execution_count": 0,
      "outputs": [
        {
          "output_type": "execute_result",
          "data": {
            "text/plain": [
              "(101766, 34)"
            ]
          },
          "metadata": {
            "tags": []
          },
          "execution_count": 43
        }
      ]
    },
    {
      "metadata": {
        "id": "7xOZKYBijF76",
        "colab_type": "code",
        "colab": {}
      },
      "cell_type": "code",
      "source": [
        ""
      ],
      "execution_count": 0,
      "outputs": []
    },
    {
      "metadata": {
        "id": "ghrDnp3hjF79",
        "colab_type": "code",
        "colab": {}
      },
      "cell_type": "code",
      "source": [
        "# Remove patients if have 'expired'\n",
        "\n",
        "# This remove 1,652 rows\n",
        "expired = full_dataset[full_dataset['dischargeDisposition'] == 'Expired'].index\n",
        "full_dataset.drop(expired, axis = 0, inplace = True)"
      ],
      "execution_count": 0,
      "outputs": []
    },
    {
      "metadata": {
        "id": "ZXspIOiXjF8e",
        "colab_type": "code",
        "colab": {},
        "outputId": "a08cd6cd-b7fc-454d-81a9-6e3196b9f874"
      },
      "cell_type": "code",
      "source": [
        "full_dataset.shape"
      ],
      "execution_count": 0,
      "outputs": [
        {
          "output_type": "execute_result",
          "data": {
            "text/plain": [
              "(100114, 34)"
            ]
          },
          "metadata": {
            "tags": []
          },
          "execution_count": 45
        }
      ]
    },
    {
      "metadata": {
        "id": "8V1rePGJjF9g",
        "colab_type": "code",
        "colab": {},
        "outputId": "d1163d81-59f1-4eee-bdbf-31050f22e10b"
      },
      "cell_type": "code",
      "source": [
        "full_dataset.head()"
      ],
      "execution_count": 0,
      "outputs": [
        {
          "output_type": "execute_result",
          "data": {
            "text/html": [
              "<div>\n",
              "<style scoped>\n",
              "    .dataframe tbody tr th:only-of-type {\n",
              "        vertical-align: middle;\n",
              "    }\n",
              "\n",
              "    .dataframe tbody tr th {\n",
              "        vertical-align: top;\n",
              "    }\n",
              "\n",
              "    .dataframe thead th {\n",
              "        text-align: right;\n",
              "    }\n",
              "</style>\n",
              "<table border=\"1\" class=\"dataframe\">\n",
              "  <thead>\n",
              "    <tr style=\"text-align: right;\">\n",
              "      <th></th>\n",
              "      <th>encounter_id</th>\n",
              "      <th>patient_nbr</th>\n",
              "      <th>race</th>\n",
              "      <th>gender</th>\n",
              "      <th>age</th>\n",
              "      <th>time_in_hospital</th>\n",
              "      <th>payer_code</th>\n",
              "      <th>medical_specialty</th>\n",
              "      <th>num_lab_procedures</th>\n",
              "      <th>num_procedures</th>\n",
              "      <th>num_medications</th>\n",
              "      <th>number_outpatient</th>\n",
              "      <th>number_emergency</th>\n",
              "      <th>number_inpatient</th>\n",
              "      <th>number_diagnoses</th>\n",
              "      <th>max_glu_serum</th>\n",
              "      <th>A1Cresult</th>\n",
              "      <th>metformin</th>\n",
              "      <th>repaglinide</th>\n",
              "      <th>glimepiride</th>\n",
              "      <th>glipizide</th>\n",
              "      <th>glyburide</th>\n",
              "      <th>pioglitazone</th>\n",
              "      <th>rosiglitazone</th>\n",
              "      <th>insulin</th>\n",
              "      <th>change</th>\n",
              "      <th>diabetesMed</th>\n",
              "      <th>readmitted</th>\n",
              "      <th>admissionType</th>\n",
              "      <th>dischargeDisposition</th>\n",
              "      <th>admissionSource</th>\n",
              "      <th>diag_1_cat</th>\n",
              "      <th>diag_2_cat</th>\n",
              "      <th>diag_3_cat</th>\n",
              "    </tr>\n",
              "  </thead>\n",
              "  <tbody>\n",
              "    <tr>\n",
              "      <th>1</th>\n",
              "      <td>149190</td>\n",
              "      <td>55629189</td>\n",
              "      <td>Caucasian</td>\n",
              "      <td>Female</td>\n",
              "      <td>[10-20)</td>\n",
              "      <td>3</td>\n",
              "      <td>?</td>\n",
              "      <td>?</td>\n",
              "      <td>59</td>\n",
              "      <td>0</td>\n",
              "      <td>18</td>\n",
              "      <td>0</td>\n",
              "      <td>0</td>\n",
              "      <td>0</td>\n",
              "      <td>9</td>\n",
              "      <td>None</td>\n",
              "      <td>None</td>\n",
              "      <td>No</td>\n",
              "      <td>No</td>\n",
              "      <td>No</td>\n",
              "      <td>No</td>\n",
              "      <td>No</td>\n",
              "      <td>No</td>\n",
              "      <td>No</td>\n",
              "      <td>Up</td>\n",
              "      <td>Ch</td>\n",
              "      <td>Yes</td>\n",
              "      <td>No</td>\n",
              "      <td>Emergency</td>\n",
              "      <td>Discharged to home</td>\n",
              "      <td>Emergency Room</td>\n",
              "      <td>Neoplasms</td>\n",
              "      <td>Diabetes</td>\n",
              "      <td>Neoplasms</td>\n",
              "    </tr>\n",
              "    <tr>\n",
              "      <th>2</th>\n",
              "      <td>64410</td>\n",
              "      <td>86047875</td>\n",
              "      <td>AfricanAmerican</td>\n",
              "      <td>Female</td>\n",
              "      <td>[20-30)</td>\n",
              "      <td>2</td>\n",
              "      <td>?</td>\n",
              "      <td>?</td>\n",
              "      <td>11</td>\n",
              "      <td>5</td>\n",
              "      <td>13</td>\n",
              "      <td>2</td>\n",
              "      <td>0</td>\n",
              "      <td>1</td>\n",
              "      <td>6</td>\n",
              "      <td>None</td>\n",
              "      <td>None</td>\n",
              "      <td>No</td>\n",
              "      <td>No</td>\n",
              "      <td>No</td>\n",
              "      <td>Steady</td>\n",
              "      <td>No</td>\n",
              "      <td>No</td>\n",
              "      <td>No</td>\n",
              "      <td>No</td>\n",
              "      <td>No</td>\n",
              "      <td>Yes</td>\n",
              "      <td>No</td>\n",
              "      <td>Emergency</td>\n",
              "      <td>Discharged to home</td>\n",
              "      <td>Emergency Room</td>\n",
              "      <td>Other</td>\n",
              "      <td>Diabetes</td>\n",
              "      <td>Other</td>\n",
              "    </tr>\n",
              "    <tr>\n",
              "      <th>3</th>\n",
              "      <td>500364</td>\n",
              "      <td>82442376</td>\n",
              "      <td>Caucasian</td>\n",
              "      <td>Male</td>\n",
              "      <td>[30-40)</td>\n",
              "      <td>2</td>\n",
              "      <td>?</td>\n",
              "      <td>?</td>\n",
              "      <td>44</td>\n",
              "      <td>1</td>\n",
              "      <td>16</td>\n",
              "      <td>0</td>\n",
              "      <td>0</td>\n",
              "      <td>0</td>\n",
              "      <td>7</td>\n",
              "      <td>None</td>\n",
              "      <td>None</td>\n",
              "      <td>No</td>\n",
              "      <td>No</td>\n",
              "      <td>No</td>\n",
              "      <td>No</td>\n",
              "      <td>No</td>\n",
              "      <td>No</td>\n",
              "      <td>No</td>\n",
              "      <td>Up</td>\n",
              "      <td>Ch</td>\n",
              "      <td>Yes</td>\n",
              "      <td>No</td>\n",
              "      <td>Emergency</td>\n",
              "      <td>Discharged to home</td>\n",
              "      <td>Emergency Room</td>\n",
              "      <td>Other</td>\n",
              "      <td>Diabetes</td>\n",
              "      <td>Circulatory</td>\n",
              "    </tr>\n",
              "    <tr>\n",
              "      <th>4</th>\n",
              "      <td>16680</td>\n",
              "      <td>42519267</td>\n",
              "      <td>Caucasian</td>\n",
              "      <td>Male</td>\n",
              "      <td>[40-50)</td>\n",
              "      <td>1</td>\n",
              "      <td>?</td>\n",
              "      <td>?</td>\n",
              "      <td>51</td>\n",
              "      <td>0</td>\n",
              "      <td>8</td>\n",
              "      <td>0</td>\n",
              "      <td>0</td>\n",
              "      <td>0</td>\n",
              "      <td>5</td>\n",
              "      <td>None</td>\n",
              "      <td>None</td>\n",
              "      <td>No</td>\n",
              "      <td>No</td>\n",
              "      <td>No</td>\n",
              "      <td>Steady</td>\n",
              "      <td>No</td>\n",
              "      <td>No</td>\n",
              "      <td>No</td>\n",
              "      <td>Steady</td>\n",
              "      <td>Ch</td>\n",
              "      <td>Yes</td>\n",
              "      <td>No</td>\n",
              "      <td>Emergency</td>\n",
              "      <td>Discharged to home</td>\n",
              "      <td>Emergency Room</td>\n",
              "      <td>Neoplasms</td>\n",
              "      <td>Neoplasms</td>\n",
              "      <td>Diabetes</td>\n",
              "    </tr>\n",
              "    <tr>\n",
              "      <th>5</th>\n",
              "      <td>35754</td>\n",
              "      <td>82637451</td>\n",
              "      <td>Caucasian</td>\n",
              "      <td>Male</td>\n",
              "      <td>[50-60)</td>\n",
              "      <td>3</td>\n",
              "      <td>?</td>\n",
              "      <td>?</td>\n",
              "      <td>31</td>\n",
              "      <td>6</td>\n",
              "      <td>16</td>\n",
              "      <td>0</td>\n",
              "      <td>0</td>\n",
              "      <td>0</td>\n",
              "      <td>9</td>\n",
              "      <td>None</td>\n",
              "      <td>None</td>\n",
              "      <td>No</td>\n",
              "      <td>No</td>\n",
              "      <td>No</td>\n",
              "      <td>No</td>\n",
              "      <td>No</td>\n",
              "      <td>No</td>\n",
              "      <td>No</td>\n",
              "      <td>Steady</td>\n",
              "      <td>No</td>\n",
              "      <td>Yes</td>\n",
              "      <td>No</td>\n",
              "      <td>Urgent</td>\n",
              "      <td>Discharged to home</td>\n",
              "      <td>Clinic Referral</td>\n",
              "      <td>Circulatory</td>\n",
              "      <td>Circulatory</td>\n",
              "      <td>Diabetes</td>\n",
              "    </tr>\n",
              "  </tbody>\n",
              "</table>\n",
              "</div>"
            ],
            "text/plain": [
              "   encounter_id  patient_nbr             race  gender      age  \\\n",
              "1        149190     55629189        Caucasian  Female  [10-20)   \n",
              "2         64410     86047875  AfricanAmerican  Female  [20-30)   \n",
              "3        500364     82442376        Caucasian    Male  [30-40)   \n",
              "4         16680     42519267        Caucasian    Male  [40-50)   \n",
              "5         35754     82637451        Caucasian    Male  [50-60)   \n",
              "\n",
              "   time_in_hospital payer_code medical_specialty  num_lab_procedures  \\\n",
              "1                 3          ?                 ?                  59   \n",
              "2                 2          ?                 ?                  11   \n",
              "3                 2          ?                 ?                  44   \n",
              "4                 1          ?                 ?                  51   \n",
              "5                 3          ?                 ?                  31   \n",
              "\n",
              "   num_procedures  num_medications  number_outpatient  number_emergency  \\\n",
              "1               0               18                  0                 0   \n",
              "2               5               13                  2                 0   \n",
              "3               1               16                  0                 0   \n",
              "4               0                8                  0                 0   \n",
              "5               6               16                  0                 0   \n",
              "\n",
              "   number_inpatient  number_diagnoses max_glu_serum A1Cresult metformin  \\\n",
              "1                 0                 9          None      None        No   \n",
              "2                 1                 6          None      None        No   \n",
              "3                 0                 7          None      None        No   \n",
              "4                 0                 5          None      None        No   \n",
              "5                 0                 9          None      None        No   \n",
              "\n",
              "  repaglinide glimepiride glipizide glyburide pioglitazone rosiglitazone  \\\n",
              "1          No          No        No        No           No            No   \n",
              "2          No          No    Steady        No           No            No   \n",
              "3          No          No        No        No           No            No   \n",
              "4          No          No    Steady        No           No            No   \n",
              "5          No          No        No        No           No            No   \n",
              "\n",
              "  insulin change diabetesMed readmitted admissionType dischargeDisposition  \\\n",
              "1      Up     Ch         Yes         No     Emergency   Discharged to home   \n",
              "2      No     No         Yes         No     Emergency   Discharged to home   \n",
              "3      Up     Ch         Yes         No     Emergency   Discharged to home   \n",
              "4  Steady     Ch         Yes         No     Emergency   Discharged to home   \n",
              "5  Steady     No         Yes         No        Urgent   Discharged to home   \n",
              "\n",
              "   admissionSource   diag_1_cat   diag_2_cat   diag_3_cat  \n",
              "1   Emergency Room    Neoplasms     Diabetes    Neoplasms  \n",
              "2   Emergency Room        Other     Diabetes        Other  \n",
              "3   Emergency Room        Other     Diabetes  Circulatory  \n",
              "4   Emergency Room    Neoplasms    Neoplasms     Diabetes  \n",
              "5  Clinic Referral  Circulatory  Circulatory     Diabetes  "
            ]
          },
          "metadata": {
            "tags": []
          },
          "execution_count": 68
        }
      ]
    },
    {
      "metadata": {
        "id": "lNBxjanmjF9m",
        "colab_type": "text"
      },
      "cell_type": "markdown",
      "source": [
        ""
      ]
    },
    {
      "metadata": {
        "id": "zIyBBrsXjF9z",
        "colab_type": "text"
      },
      "cell_type": "markdown",
      "source": [
        "# Make columns for diagnosis categories\n",
        "Convert icd9 codes to to categories\n",
        "\n",
        "This is under the diag_1,2,3 column\n"
      ]
    },
    {
      "metadata": {
        "id": "-oZFQMD2jF-C",
        "colab_type": "code",
        "colab": {}
      },
      "cell_type": "code",
      "source": [
        "def code_to_category(icd9code):\n",
        "    try:\n",
        "        icd9code = float(icd9code)\n",
        "        if (icd9code >= 390 and icd9code < 460) or icd9code == 785:\n",
        "            return 'Circulatory'\n",
        "        if (icd9code >= 460 and icd9code < 520) or icd9code == 786:\n",
        "            return 'Respiratory'\n",
        "        if (icd9code >= 520 and icd9code < 580) or icd9code == 787:\n",
        "            return 'Digestive'\n",
        "        if (icd9code >= 250 and icd9code < 251):\n",
        "            return 'Diabetes'\n",
        "        if (icd9code >= 800 and icd9code < 1000):\n",
        "            return 'Injury'\n",
        "        if (icd9code >= 710 and icd9code < 740):\n",
        "            return 'Musculoskeletal'\n",
        "        if (icd9code >= 580 and icd9code < 630) or icd9code == 788:\n",
        "            return 'Genitourinary'\n",
        "        if (icd9code >= 140 and icd9code < 240) or icd9code == 780 or icd9code == 781 or icd9code == 784 or (icd9code >= 790 and icd9code < 800):\n",
        "            return 'Neoplasms'\n",
        "        if (icd9code >= 240 and icd9code < 250) or (icd9code >= 251 and icd9code < 280) or (icd9code >= 680 and icd9code < 710) or icd9code == 782:\n",
        "            return 'Neoplasms'\n",
        "        else:\n",
        "            return 'Other'\n",
        "    except:\n",
        "        if (icd9code == '?'):\n",
        "            return '?'\n",
        "        return 'Other'"
      ],
      "execution_count": 0,
      "outputs": []
    },
    {
      "metadata": {
        "id": "0UQans7-jF-s",
        "colab_type": "code",
        "colab": {}
      },
      "cell_type": "code",
      "source": [
        "full_dataset['diag_1_cat'] = [code_to_category(x) for x in full_dataset['diag_1']]\n",
        "full_dataset['diag_2_cat'] = [code_to_category(x) for x in full_dataset['diag_2']]\n",
        "full_dataset['diag_3_cat'] = [code_to_category(x) for x in full_dataset['diag_3']]"
      ],
      "execution_count": 0,
      "outputs": []
    },
    {
      "metadata": {
        "id": "wKdlEEryjF_I",
        "colab_type": "code",
        "colab": {}
      },
      "cell_type": "code",
      "source": [
        "full_dataset.drop(['diag_1', 'diag_2','diag_3'], axis = 1, inplace = True)"
      ],
      "execution_count": 0,
      "outputs": []
    },
    {
      "metadata": {
        "id": "GBoqe_68jF_Z",
        "colab_type": "code",
        "colab": {},
        "outputId": "5e177c95-147e-4909-8841-644c761278f1"
      },
      "cell_type": "code",
      "source": [
        "full_dataset['diag_1_cat'].value_counts()"
      ],
      "execution_count": 0,
      "outputs": [
        {
          "output_type": "execute_result",
          "data": {
            "text/plain": [
              "Circulatory        29881\n",
              "Respiratory        14074\n",
              "Neoplasms          11090\n",
              "Other              10096\n",
              "Digestive           9380\n",
              "Diabetes            8693\n",
              "Injury              6881\n",
              "Genitourinary       5054\n",
              "Musculoskeletal     4944\n",
              "?                     21\n",
              "Name: diag_1_cat, dtype: int64"
            ]
          },
          "metadata": {
            "tags": []
          },
          "execution_count": 49
        }
      ]
    },
    {
      "metadata": {
        "id": "MbPeRrGLjF_i",
        "colab_type": "code",
        "colab": {},
        "outputId": "1f2bd26a-8a24-46f9-de72-960fd2fde692"
      },
      "cell_type": "code",
      "source": [
        "full_dataset['diag_2_cat'].value_counts()"
      ],
      "execution_count": 0,
      "outputs": [
        {
          "output_type": "execute_result",
          "data": {
            "text/plain": [
              "Circulatory        31370\n",
              "Neoplasms          16603\n",
              "Diabetes           12722\n",
              "Other              12056\n",
              "Respiratory        10506\n",
              "Genitourinary       8233\n",
              "Digestive           4114\n",
              "Injury              2390\n",
              "Musculoskeletal     1762\n",
              "?                    358\n",
              "Name: diag_2_cat, dtype: int64"
            ]
          },
          "metadata": {
            "tags": []
          },
          "execution_count": 50
        }
      ]
    },
    {
      "metadata": {
        "id": "vEm64gqcjF_p",
        "colab_type": "code",
        "colab": {},
        "outputId": "51d7669e-0f04-41c3-ef09-9b89d24dc4b9"
      },
      "cell_type": "code",
      "source": [
        "full_dataset['diag_3_cat'].value_counts()"
      ],
      "execution_count": 0,
      "outputs": [
        {
          "output_type": "execute_result",
          "data": {
            "text/plain": [
              "Circulatory        29789\n",
              "Diabetes           17027\n",
              "Neoplasms          15664\n",
              "Other              14905\n",
              "Respiratory         7096\n",
              "Genitourinary       6519\n",
              "Digestive           3885\n",
              "Injury              1905\n",
              "Musculoskeletal     1903\n",
              "?                   1421\n",
              "Name: diag_3_cat, dtype: int64"
            ]
          },
          "metadata": {
            "tags": []
          },
          "execution_count": 51
        }
      ]
    },
    {
      "metadata": {
        "id": "06hfnL1EjGAy",
        "colab_type": "text"
      },
      "cell_type": "markdown",
      "source": [
        "# remove rows that are ? in diag_1_cat, diag_2_cat and diag_3_cat\n",
        "\n",
        "    originally diag_1 has 21 ?\n",
        "    diag_2 has 358 ?\n",
        "    diag_3 has 1423 ?\n",
        "\n",
        "Some rows may have both diag_1 and diag_2 as ? , also some rows with ? values got removed in the first 5 steps. Therefore, in total in this step we have 1440 rows removed\n"
      ]
    },
    {
      "metadata": {
        "id": "CqxF4mDXjGBE",
        "colab_type": "code",
        "colab": {}
      },
      "cell_type": "code",
      "source": [
        "full_dataset.drop(full_dataset[full_dataset['diag_1_cat']==\"?\"].index,axis=0,inplace=True)\n",
        "full_dataset.drop(full_dataset[full_dataset['diag_2_cat']==\"?\"].index,axis=0,inplace=True)\n",
        "full_dataset.drop(full_dataset[full_dataset['diag_3_cat']==\"?\"].index,axis=0,inplace=True)"
      ],
      "execution_count": 0,
      "outputs": []
    },
    {
      "metadata": {
        "id": "LzvOgTNMjGBH",
        "colab_type": "code",
        "colab": {},
        "outputId": "4e4eb2ae-1e01-4dbb-99f7-9ca4d78f580c"
      },
      "cell_type": "code",
      "source": [
        "full_dataset.shape"
      ],
      "execution_count": 0,
      "outputs": [
        {
          "output_type": "execute_result",
          "data": {
            "text/plain": [
              "(98594, 34)"
            ]
          },
          "metadata": {
            "tags": []
          },
          "execution_count": 70
        }
      ]
    },
    {
      "metadata": {
        "id": "OrTdL7VrjGBe",
        "colab_type": "text"
      },
      "cell_type": "markdown",
      "source": [
        ""
      ]
    },
    {
      "metadata": {
        "id": "AYp2CwIBjGBf",
        "colab_type": "text"
      },
      "cell_type": "markdown",
      "source": [
        "# Readmission by time in hospital"
      ]
    },
    {
      "metadata": {
        "id": "HqJFe0--jGBg",
        "colab_type": "code",
        "colab": {},
        "outputId": "5e4ed65b-1835-4128-8da1-a39cf08ace32"
      },
      "cell_type": "code",
      "source": [
        "#There are no missing values in the \"time in hospital\"\n",
        "print(sum(full_dataset['time_in_hospital'].isna()))\n",
        "print(full_dataset['time_in_hospital'].describe())"
      ],
      "execution_count": 0,
      "outputs": [
        {
          "output_type": "stream",
          "text": [
            "0\n",
            "count    98594.000000\n",
            "mean         4.414194\n",
            "std          2.980703\n",
            "min          1.000000\n",
            "25%          2.000000\n",
            "50%          4.000000\n",
            "75%          6.000000\n",
            "max         14.000000\n",
            "Name: time_in_hospital, dtype: float64\n"
          ],
          "name": "stdout"
        }
      ]
    },
    {
      "metadata": {
        "id": "DpgAcHvZjGBp",
        "colab_type": "code",
        "colab": {}
      },
      "cell_type": "code",
      "source": [
        "df = full_dataset"
      ],
      "execution_count": 0,
      "outputs": []
    },
    {
      "metadata": {
        "id": "PX3bWfq2jGBs",
        "colab_type": "code",
        "colab": {}
      },
      "cell_type": "code",
      "source": [
        "num_readmitted = df.groupby(['time_in_hospital', 'readmitted']).agg({'readmitted':['count']})\n",
        "num_readmitted.columns = num_readmitted.columns.droplevel(0)\n",
        "num_readmitted = num_readmitted.reset_index()\n",
        "readmt = num_readmitted[num_readmitted['readmitted'] == 'Yes']"
      ],
      "execution_count": 0,
      "outputs": []
    },
    {
      "metadata": {
        "id": "KXKNs6Q7jGBu",
        "colab_type": "code",
        "colab": {}
      },
      "cell_type": "code",
      "source": [
        "time_count = num_readmitted.groupby('time_in_hospital').sum().reset_index()\n",
        "perc_readmitted = readmt.merge(time_count, on = 'time_in_hospital')\n",
        "perc_readmitted['readmit_perc'] = perc_readmitted['count_x']/perc_readmitted['count_y']\n",
        "perc_admitted = perc_readmitted.drop(['readmitted', 'count_x', 'count_y'], axis=1)"
      ],
      "execution_count": 0,
      "outputs": []
    },
    {
      "metadata": {
        "id": "Ijcs-k_WjGCl",
        "colab_type": "code",
        "colab": {},
        "outputId": "1c0ddf72-bbfd-4054-a9b4-43d23f941051"
      },
      "cell_type": "code",
      "source": [
        "plt.scatter(perc_admitted['time_in_hospital'], perc_readmitted['readmit_perc'])\n",
        "plt.ylabel('Percent Readmitted within 30 days')\n",
        "plt.xlabel('Time in Hospital')\n",
        "plt.title('Readmission by Time Spent in Hospital')"
      ],
      "execution_count": 0,
      "outputs": [
        {
          "output_type": "execute_result",
          "data": {
            "text/plain": [
              "Text(0.5, 1.0, 'Readmission by Time Spent in Hospital')"
            ]
          },
          "metadata": {
            "tags": []
          },
          "execution_count": 75
        },
        {
          "output_type": "display_data",
          "data": {
            "image/png": "[encoded data removed]",
            "text/plain": [
              "<Figure size 432x288 with 1 Axes>"
            ]
          },
          "metadata": {
            "tags": [],
            "needs_background": "light"
          }
        }
      ]
    },
    {
      "metadata": {
        "id": "ZeceVtcmjGDM",
        "colab_type": "code",
        "colab": {}
      },
      "cell_type": "code",
      "source": [
        ""
      ],
      "execution_count": 0,
      "outputs": []
    },
    {
      "metadata": {
        "id": "vQ0VeaidjGDR",
        "colab_type": "text"
      },
      "cell_type": "markdown",
      "source": [
        "# readmissions by number of medications"
      ]
    },
    {
      "metadata": {
        "id": "4Qj2xfTEjGDS",
        "colab_type": "code",
        "colab": {},
        "outputId": "0852f757-5f9e-47de-ba95-d40a1b5adac8"
      },
      "cell_type": "code",
      "source": [
        "full_dataset.head()"
      ],
      "execution_count": 0,
      "outputs": [
        {
          "output_type": "execute_result",
          "data": {
            "text/html": [
              "<div>\n",
              "<style scoped>\n",
              "    .dataframe tbody tr th:only-of-type {\n",
              "        vertical-align: middle;\n",
              "    }\n",
              "\n",
              "    .dataframe tbody tr th {\n",
              "        vertical-align: top;\n",
              "    }\n",
              "\n",
              "    .dataframe thead th {\n",
              "        text-align: right;\n",
              "    }\n",
              "</style>\n",
              "<table border=\"1\" class=\"dataframe\">\n",
              "  <thead>\n",
              "    <tr style=\"text-align: right;\">\n",
              "      <th></th>\n",
              "      <th>encounter_id</th>\n",
              "      <th>patient_nbr</th>\n",
              "      <th>race</th>\n",
              "      <th>gender</th>\n",
              "      <th>age</th>\n",
              "      <th>time_in_hospital</th>\n",
              "      <th>payer_code</th>\n",
              "      <th>medical_specialty</th>\n",
              "      <th>num_lab_procedures</th>\n",
              "      <th>num_procedures</th>\n",
              "      <th>num_medications</th>\n",
              "      <th>number_outpatient</th>\n",
              "      <th>number_emergency</th>\n",
              "      <th>number_inpatient</th>\n",
              "      <th>number_diagnoses</th>\n",
              "      <th>max_glu_serum</th>\n",
              "      <th>A1Cresult</th>\n",
              "      <th>metformin</th>\n",
              "      <th>repaglinide</th>\n",
              "      <th>glimepiride</th>\n",
              "      <th>glipizide</th>\n",
              "      <th>glyburide</th>\n",
              "      <th>pioglitazone</th>\n",
              "      <th>rosiglitazone</th>\n",
              "      <th>insulin</th>\n",
              "      <th>change</th>\n",
              "      <th>diabetesMed</th>\n",
              "      <th>readmitted</th>\n",
              "      <th>admissionType</th>\n",
              "      <th>dischargeDisposition</th>\n",
              "      <th>admissionSource</th>\n",
              "      <th>diag_1_cat</th>\n",
              "      <th>diag_2_cat</th>\n",
              "      <th>diag_3_cat</th>\n",
              "    </tr>\n",
              "  </thead>\n",
              "  <tbody>\n",
              "    <tr>\n",
              "      <th>1</th>\n",
              "      <td>149190</td>\n",
              "      <td>55629189</td>\n",
              "      <td>Caucasian</td>\n",
              "      <td>Female</td>\n",
              "      <td>[10-20)</td>\n",
              "      <td>3</td>\n",
              "      <td>?</td>\n",
              "      <td>?</td>\n",
              "      <td>59</td>\n",
              "      <td>0</td>\n",
              "      <td>18</td>\n",
              "      <td>0</td>\n",
              "      <td>0</td>\n",
              "      <td>0</td>\n",
              "      <td>9</td>\n",
              "      <td>None</td>\n",
              "      <td>None</td>\n",
              "      <td>No</td>\n",
              "      <td>No</td>\n",
              "      <td>No</td>\n",
              "      <td>No</td>\n",
              "      <td>No</td>\n",
              "      <td>No</td>\n",
              "      <td>No</td>\n",
              "      <td>Up</td>\n",
              "      <td>Ch</td>\n",
              "      <td>Yes</td>\n",
              "      <td>No</td>\n",
              "      <td>Emergency</td>\n",
              "      <td>Discharged to home</td>\n",
              "      <td>Emergency Room</td>\n",
              "      <td>Neoplasms</td>\n",
              "      <td>Diabetes</td>\n",
              "      <td>Neoplasms</td>\n",
              "    </tr>\n",
              "    <tr>\n",
              "      <th>2</th>\n",
              "      <td>64410</td>\n",
              "      <td>86047875</td>\n",
              "      <td>AfricanAmerican</td>\n",
              "      <td>Female</td>\n",
              "      <td>[20-30)</td>\n",
              "      <td>2</td>\n",
              "      <td>?</td>\n",
              "      <td>?</td>\n",
              "      <td>11</td>\n",
              "      <td>5</td>\n",
              "      <td>13</td>\n",
              "      <td>2</td>\n",
              "      <td>0</td>\n",
              "      <td>1</td>\n",
              "      <td>6</td>\n",
              "      <td>None</td>\n",
              "      <td>None</td>\n",
              "      <td>No</td>\n",
              "      <td>No</td>\n",
              "      <td>No</td>\n",
              "      <td>Steady</td>\n",
              "      <td>No</td>\n",
              "      <td>No</td>\n",
              "      <td>No</td>\n",
              "      <td>No</td>\n",
              "      <td>No</td>\n",
              "      <td>Yes</td>\n",
              "      <td>No</td>\n",
              "      <td>Emergency</td>\n",
              "      <td>Discharged to home</td>\n",
              "      <td>Emergency Room</td>\n",
              "      <td>Other</td>\n",
              "      <td>Diabetes</td>\n",
              "      <td>Other</td>\n",
              "    </tr>\n",
              "    <tr>\n",
              "      <th>3</th>\n",
              "      <td>500364</td>\n",
              "      <td>82442376</td>\n",
              "      <td>Caucasian</td>\n",
              "      <td>Male</td>\n",
              "      <td>[30-40)</td>\n",
              "      <td>2</td>\n",
              "      <td>?</td>\n",
              "      <td>?</td>\n",
              "      <td>44</td>\n",
              "      <td>1</td>\n",
              "      <td>16</td>\n",
              "      <td>0</td>\n",
              "      <td>0</td>\n",
              "      <td>0</td>\n",
              "      <td>7</td>\n",
              "      <td>None</td>\n",
              "      <td>None</td>\n",
              "      <td>No</td>\n",
              "      <td>No</td>\n",
              "      <td>No</td>\n",
              "      <td>No</td>\n",
              "      <td>No</td>\n",
              "      <td>No</td>\n",
              "      <td>No</td>\n",
              "      <td>Up</td>\n",
              "      <td>Ch</td>\n",
              "      <td>Yes</td>\n",
              "      <td>No</td>\n",
              "      <td>Emergency</td>\n",
              "      <td>Discharged to home</td>\n",
              "      <td>Emergency Room</td>\n",
              "      <td>Other</td>\n",
              "      <td>Diabetes</td>\n",
              "      <td>Circulatory</td>\n",
              "    </tr>\n",
              "    <tr>\n",
              "      <th>4</th>\n",
              "      <td>16680</td>\n",
              "      <td>42519267</td>\n",
              "      <td>Caucasian</td>\n",
              "      <td>Male</td>\n",
              "      <td>[40-50)</td>\n",
              "      <td>1</td>\n",
              "      <td>?</td>\n",
              "      <td>?</td>\n",
              "      <td>51</td>\n",
              "      <td>0</td>\n",
              "      <td>8</td>\n",
              "      <td>0</td>\n",
              "      <td>0</td>\n",
              "      <td>0</td>\n",
              "      <td>5</td>\n",
              "      <td>None</td>\n",
              "      <td>None</td>\n",
              "      <td>No</td>\n",
              "      <td>No</td>\n",
              "      <td>No</td>\n",
              "      <td>Steady</td>\n",
              "      <td>No</td>\n",
              "      <td>No</td>\n",
              "      <td>No</td>\n",
              "      <td>Steady</td>\n",
              "      <td>Ch</td>\n",
              "      <td>Yes</td>\n",
              "      <td>No</td>\n",
              "      <td>Emergency</td>\n",
              "      <td>Discharged to home</td>\n",
              "      <td>Emergency Room</td>\n",
              "      <td>Neoplasms</td>\n",
              "      <td>Neoplasms</td>\n",
              "      <td>Diabetes</td>\n",
              "    </tr>\n",
              "    <tr>\n",
              "      <th>5</th>\n",
              "      <td>35754</td>\n",
              "      <td>82637451</td>\n",
              "      <td>Caucasian</td>\n",
              "      <td>Male</td>\n",
              "      <td>[50-60)</td>\n",
              "      <td>3</td>\n",
              "      <td>?</td>\n",
              "      <td>?</td>\n",
              "      <td>31</td>\n",
              "      <td>6</td>\n",
              "      <td>16</td>\n",
              "      <td>0</td>\n",
              "      <td>0</td>\n",
              "      <td>0</td>\n",
              "      <td>9</td>\n",
              "      <td>None</td>\n",
              "      <td>None</td>\n",
              "      <td>No</td>\n",
              "      <td>No</td>\n",
              "      <td>No</td>\n",
              "      <td>No</td>\n",
              "      <td>No</td>\n",
              "      <td>No</td>\n",
              "      <td>No</td>\n",
              "      <td>Steady</td>\n",
              "      <td>No</td>\n",
              "      <td>Yes</td>\n",
              "      <td>No</td>\n",
              "      <td>Urgent</td>\n",
              "      <td>Discharged to home</td>\n",
              "      <td>Clinic Referral</td>\n",
              "      <td>Circulatory</td>\n",
              "      <td>Circulatory</td>\n",
              "      <td>Diabetes</td>\n",
              "    </tr>\n",
              "  </tbody>\n",
              "</table>\n",
              "</div>"
            ],
            "text/plain": [
              "   encounter_id  patient_nbr             race  gender      age  \\\n",
              "1        149190     55629189        Caucasian  Female  [10-20)   \n",
              "2         64410     86047875  AfricanAmerican  Female  [20-30)   \n",
              "3        500364     82442376        Caucasian    Male  [30-40)   \n",
              "4         16680     42519267        Caucasian    Male  [40-50)   \n",
              "5         35754     82637451        Caucasian    Male  [50-60)   \n",
              "\n",
              "   time_in_hospital payer_code medical_specialty  num_lab_procedures  \\\n",
              "1                 3          ?                 ?                  59   \n",
              "2                 2          ?                 ?                  11   \n",
              "3                 2          ?                 ?                  44   \n",
              "4                 1          ?                 ?                  51   \n",
              "5                 3          ?                 ?                  31   \n",
              "\n",
              "   num_procedures  num_medications  number_outpatient  number_emergency  \\\n",
              "1               0               18                  0                 0   \n",
              "2               5               13                  2                 0   \n",
              "3               1               16                  0                 0   \n",
              "4               0                8                  0                 0   \n",
              "5               6               16                  0                 0   \n",
              "\n",
              "   number_inpatient  number_diagnoses max_glu_serum A1Cresult metformin  \\\n",
              "1                 0                 9          None      None        No   \n",
              "2                 1                 6          None      None        No   \n",
              "3                 0                 7          None      None        No   \n",
              "4                 0                 5          None      None        No   \n",
              "5                 0                 9          None      None        No   \n",
              "\n",
              "  repaglinide glimepiride glipizide glyburide pioglitazone rosiglitazone  \\\n",
              "1          No          No        No        No           No            No   \n",
              "2          No          No    Steady        No           No            No   \n",
              "3          No          No        No        No           No            No   \n",
              "4          No          No    Steady        No           No            No   \n",
              "5          No          No        No        No           No            No   \n",
              "\n",
              "  insulin change diabetesMed readmitted admissionType dischargeDisposition  \\\n",
              "1      Up     Ch         Yes         No     Emergency   Discharged to home   \n",
              "2      No     No         Yes         No     Emergency   Discharged to home   \n",
              "3      Up     Ch         Yes         No     Emergency   Discharged to home   \n",
              "4  Steady     Ch         Yes         No     Emergency   Discharged to home   \n",
              "5  Steady     No         Yes         No        Urgent   Discharged to home   \n",
              "\n",
              "   admissionSource   diag_1_cat   diag_2_cat   diag_3_cat  \n",
              "1   Emergency Room    Neoplasms     Diabetes    Neoplasms  \n",
              "2   Emergency Room        Other     Diabetes        Other  \n",
              "3   Emergency Room        Other     Diabetes  Circulatory  \n",
              "4   Emergency Room    Neoplasms    Neoplasms     Diabetes  \n",
              "5  Clinic Referral  Circulatory  Circulatory     Diabetes  "
            ]
          },
          "metadata": {
            "tags": []
          },
          "execution_count": 76
        }
      ]
    },
    {
      "metadata": {
        "id": "HK2uwd9hjGDs",
        "colab_type": "code",
        "colab": {},
        "outputId": "f15ac8f2-3176-49e6-d29b-3f8aa52b226b"
      },
      "cell_type": "code",
      "source": [
        "#There are no missing values in the \"time in hospital\"\n",
        "print(sum(full_dataset['num_medications'].isna()))\n",
        "print(full_dataset['num_medications'].describe())"
      ],
      "execution_count": 0,
      "outputs": [
        {
          "output_type": "stream",
          "text": [
            "0\n",
            "count    98594.000000\n",
            "mean        16.078686\n",
            "std          8.081019\n",
            "min          1.000000\n",
            "25%         11.000000\n",
            "50%         15.000000\n",
            "75%         20.000000\n",
            "max         81.000000\n",
            "Name: num_medications, dtype: float64\n"
          ],
          "name": "stdout"
        }
      ]
    },
    {
      "metadata": {
        "id": "4JcguvfGjGDx",
        "colab_type": "code",
        "colab": {}
      },
      "cell_type": "code",
      "source": [
        "num_readmitted = df.groupby(['num_medications', 'readmitted']).agg({'readmitted':['count']})\n",
        "num_readmitted.columns = num_readmitted.columns.droplevel(0)\n",
        "num_readmitted = num_readmitted.reset_index()\n",
        "readmt = num_readmitted[num_readmitted['readmitted'] == 'Yes']"
      ],
      "execution_count": 0,
      "outputs": []
    },
    {
      "metadata": {
        "id": "tKfi25iXjGEE",
        "colab_type": "code",
        "colab": {}
      },
      "cell_type": "code",
      "source": [
        "med_count = num_readmitted.groupby('num_medications').sum().reset_index()\n",
        "perc_readmitted = readmt.merge(med_count, on = 'num_medications')\n",
        "perc_readmitted['readmit_perc'] = perc_readmitted['count_x']/perc_readmitted['count_y']\n",
        "perc_admitted = perc_readmitted.drop(['readmitted', 'count_x', 'count_y'], axis=1)"
      ],
      "execution_count": 0,
      "outputs": []
    },
    {
      "metadata": {
        "id": "m5p84t6hjGEy",
        "colab_type": "code",
        "colab": {},
        "outputId": "bfeda2c2-bd01-4fb4-a86c-7aef416954b5"
      },
      "cell_type": "code",
      "source": [
        "plt.scatter(perc_admitted['num_medications'], perc_readmitted['readmit_perc'])\n",
        "plt.ylabel('Percent Readmitted within 30 days')\n",
        "plt.xlabel('Number of Medications')\n",
        "plt.title('Readmission by Number of Medications in Hospital')"
      ],
      "execution_count": 0,
      "outputs": [
        {
          "output_type": "execute_result",
          "data": {
            "text/plain": [
              "Text(0.5, 1.0, 'Readmission by Number of Medications in Hospital')"
            ]
          },
          "metadata": {
            "tags": []
          },
          "execution_count": 80
        },
        {
          "output_type": "display_data",
          "data": {
            "image/png": "[encoded data removed]",
            "text/plain": [
              "<Figure size 432x288 with 1 Axes>"
            ]
          },
          "metadata": {
            "tags": [],
            "needs_background": "light"
          }
        }
      ]
    },
    {
      "metadata": {
        "id": "OmXVCeYujGE1",
        "colab_type": "text"
      },
      "cell_type": "markdown",
      "source": [
        "### Okay, we get our cleaned dataset, save it as \"0320_diabetes_clean.csv\""
      ]
    },
    {
      "metadata": {
        "id": "QohV4-QRjGE1",
        "colab_type": "code",
        "colab": {},
        "outputId": "e10c2d62-b913-40a5-b916-48926f9487d9"
      },
      "cell_type": "code",
      "source": [
        "full_dataset.shape"
      ],
      "execution_count": 0,
      "outputs": [
        {
          "output_type": "execute_result",
          "data": {
            "text/plain": [
              "(98594, 34)"
            ]
          },
          "metadata": {
            "tags": []
          },
          "execution_count": 81
        }
      ]
    },
    {
      "metadata": {
        "id": "HFcacoa8jGFM",
        "colab_type": "code",
        "colab": {}
      },
      "cell_type": "code",
      "source": [
        "full_dataset.to_csv(\"0320_diabetes_clean.csv\")"
      ],
      "execution_count": 0,
      "outputs": []
    },
    {
      "metadata": {
        "id": "YE5c1lD1jGFV",
        "colab_type": "code",
        "colab": {}
      },
      "cell_type": "code",
      "source": [
        ""
      ],
      "execution_count": 0,
      "outputs": []
    }
  ]
}